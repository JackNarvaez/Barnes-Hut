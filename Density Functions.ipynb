{
 "cells": [
  {
   "cell_type": "markdown",
   "metadata": {},
   "source": [
    "# Bessel galaxy distribution - Inverse Transform Sampling"
   ]
  },
  {
   "cell_type": "code",
   "execution_count": 1,
   "metadata": {},
   "outputs": [],
   "source": [
    "from numpy import array, empty, random, sqrt, exp, pi, sin, cos, arctan, zeros, save, load, cross, dot, ones, linspace\n",
    "from mpl_toolkits.mplot3d import Axes3D\n",
    "import scipy.integrate as integrate\n",
    "from scipy.optimize import fsolve\n",
    "import matplotlib.pyplot as plt\n",
    "from numpy.linalg import norm\n",
    "from copy import deepcopy\n",
    "from scipy.special import kv, iv"
   ]
  },
  {
   "cell_type": "code",
   "execution_count": 2,
   "metadata": {},
   "outputs": [],
   "source": [
    "def func(x,Distribution,Point): \n",
    "    \"\"\"--------------------------------------------------------------\n",
    "    Equation that follows the point of a wanted distribution that \n",
    "    matches the random one of a uniform distribution\n",
    "    -----------------------------------------------------------------\n",
    "       x            : Random variable in a distribution (unkonwn)\n",
    "       Distribution : Distribution's function\n",
    "       Point        : Random variable in the uniform distribution\n",
    "    --------------------------------------------------------------\"\"\"\n",
    "    return integrate.quad(Distribution,0,x)[0]-Point"
   ]
  },
  {
   "cell_type": "code",
   "execution_count": 3,
   "metadata": {},
   "outputs": [],
   "source": [
    "def Random_numbers_distribution(f, N, x0 = 0.001, normal = False, args = None):\n",
    "    \"\"\"---------------------------------------\n",
    "    Creates an array of N random numbers with\n",
    "    a distribution density equal to f. \n",
    "    --------------------------------------\"\"\"\n",
    "    if normal == False:\n",
    "        norm = integrate.quad(f,0,1)[0]\n",
    "        uf = lambda x: f(x)/norm #Density function with integral=1\n",
    "    Uniform = random.random(N)\n",
    "    Map = zeros(N)\n",
    "    for ii in range(N):\n",
    "        Map[ii]=fsolve(func,x0,args=(uf,Uniform[ii]))\n",
    "    return Map"
   ]
  },
  {
   "cell_type": "code",
   "execution_count": 4,
   "metadata": {},
   "outputs": [
    {
     "data": {
      "image/png": "[encoded data removed]",
      "text/plain": [
       "<Figure size 432x288 with 1 Axes>"
      ]
     },
     "metadata": {
      "needs_background": "light"
     },
     "output_type": "display_data"
    }
   ],
   "source": [
    "\"\"\"Personalized distribution\"\"\"\n",
    "random.seed(10)\n",
    "N = 5000\n",
    "# Random masses varies between min_mass mass and max_mass solar masses\n",
    "status = ones(N) \n",
    "#Parameters of the model of density of starts\n",
    "init_r = 0.4 # Initial radius\n",
    "Rd = .1 \n",
    "#Model of density normalized\n",
    "f = lambda x: x*exp(-x/Rd) \n",
    "#Empty array for the points mapped from the uniform distribution\n",
    "Map = Random_numbers_distribution(f,N, args=(init_r,Rd))*init_r\n",
    "Rd *= init_r\n",
    "Vel = zeros(N)\n",
    "center = [0.5, 0.5, 0.5] # Origin of galaxy  \n",
    "for i in range(N):\n",
    "        # Keplerina velocity in the plain of the disc\n",
    "        y = Map[i] / (2*Rd) \n",
    "        Bessel_v = sqrt(y**2*(iv(0,y)*kv(0,y)-iv(1,y)*kv(1,y)))\n",
    "        Vel[i] = Bessel_v\n",
    "plt.scatter(Map,Vel)\n",
    "plt.show()"
   ]
  },
  {
   "cell_type": "code",
   "execution_count": 5,
   "metadata": {},
   "outputs": [
    {
     "data": {
      "text/plain": [
       "249927.735762511"
      ]
     },
     "execution_count": 5,
     "metadata": {},
     "output_type": "execute_result"
    }
   ],
   "source": [
    "M = sum(status)\n",
    "sigma = M/(4*pi*(Rd**2-(init_r**2+init_r*Rd)*exp(-init_r/Rd)))\n",
    "sigma"
   ]
  },
  {
   "cell_type": "code",
   "execution_count": 6,
   "metadata": {},
   "outputs": [
    {
     "data": {
      "text/plain": [
       "5022.585758335055"
      ]
     },
     "execution_count": 6,
     "metadata": {},
     "output_type": "execute_result"
    }
   ],
   "source": [
    "f= lambda r: 4*pi*sigma*r*exp(-r/Rd)\n",
    "integrate.quad(f,0,init_r)[0]"
   ]
  },
  {
   "cell_type": "code",
   "execution_count": 7,
   "metadata": {},
   "outputs": [
    {
     "data": {
      "image/png": "[encoded data removed]",
      "text/plain": [
       "<Figure size 432x288 with 1 Axes>"
      ]
     },
     "metadata": {
      "needs_background": "light"
     },
     "output_type": "display_data"
    }
   ],
   "source": [
    "b = 50\n",
    "x = linspace(0,init_r,100)\n",
    "plt.hist(Map, bins = b, color = \"purple\", label = \"Generación aleatoria\")\n",
    "plt.plot(x,4*pi*sigma*x*exp(-x/Rd)/(b)*init_r, label = \"Función de densidad\")\n",
    "plt.xlabel(\"r\")\n",
    "plt.ylabel(\"n\")\n",
    "plt.legend()\n",
    "plt.show() "
   ]
  },
  {
   "cell_type": "markdown",
   "metadata": {},
   "source": [
    "# Galaxy with Bulge and Disc"
   ]
  },
  {
   "cell_type": "code",
   "execution_count": 8,
   "metadata": {},
   "outputs": [],
   "source": [
    "N = 1000"
   ]
  },
  {
   "cell_type": "code",
   "execution_count": 9,
   "metadata": {},
   "outputs": [],
   "source": [
    "random.seed(100)\n",
    "#Initial radius\n",
    "init_r = .4\n",
    "# Random masses varies between min_mass mass and max_mass solar masses\n",
    "masses = ones(N)\n",
    "#Parameters of the model of density of starts\n",
    "const_bulb=2.5\n",
    "const_disc=.2\n",
    "bulb_radius=0.2\n",
    "#Model of density normalized\n",
    "f1 = lambda x: exp(-(x)**(1/4)/const_bulb)        #Bulge\n",
    "f2 = lambda x: f1(bulb_radius)*exp(-(x-bulb_radius)/const_disc) #Disc\n",
    "f = lambda x:  x*f1(x) if x<bulb_radius else x*f2(x)                #Piecewise                                     \n",
    "Map = Random_numbers_distribution(f,N,args=(init_r,Rd))*init_r"
   ]
  },
  {
   "cell_type": "code",
   "execution_count": 10,
   "metadata": {},
   "outputs": [],
   "source": [
    "const_bulb=2.5*(init_r**(1/4))\n",
    "const_disc=.2*init_r\n",
    "bulb_radius=0.2*init_r\n",
    "g1 = lambda x: exp(-(x)**(1/4)/const_bulb)        #Bulge\n",
    "g2 = lambda x: g1(bulb_radius)*exp(-(x-bulb_radius)/const_disc) #Disc\n",
    "g = lambda x:  x*g1(x) if x<bulb_radius else x*g2(x)                #Piecewise \n",
    "M = sum(masses)\n",
    "sigma = M/(integrate.quad(g,0,init_r)[0])"
   ]
  },
  {
   "cell_type": "code",
   "execution_count": 11,
   "metadata": {},
   "outputs": [
    {
     "data": {
      "image/png": "[encoded data removed]",
      "text/plain": [
       "<Figure size 432x288 with 1 Axes>"
      ]
     },
     "metadata": {
      "needs_background": "light"
     },
     "output_type": "display_data"
    }
   ],
   "source": [
    "b = 50\n",
    "x = linspace(0,init_r,100)\n",
    "y = zeros(100)\n",
    "for ii in range(100):\n",
    "    y[ii] = g(x[ii])\n",
    "plt.hist(Map, bins = b, color = \"purple\", label = \"Generación aleatoria\")\n",
    "plt.plot(x,sigma*y/b*init_r, label = \"Función de densidad\")\n",
    "plt.xlabel(\"r\")\n",
    "plt.ylabel(\"n\")\n",
    "plt.legend()\n",
    "plt.show() "
   ]
  }
 ],
 "metadata": {
  "kernelspec": {
   "display_name": "Python 3 (ipykernel)",
   "language": "python",
   "name": "python3"
  },
  "language_info": {
   "codemirror_mode": {
    "name": "ipython",
    "version": 3
   },
   "file_extension": ".py",
   "mimetype": "text/x-python",
   "name": "python",
   "nbconvert_exporter": "python",
   "pygments_lexer": "ipython3",
   "version": "3.10.1"
  }
 },
 "nbformat": 4,
 "nbformat_minor": 4
}
